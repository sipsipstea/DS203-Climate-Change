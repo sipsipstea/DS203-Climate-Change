{
  "cells": [
    {
      "cell_type": "code",
      "execution_count": 8,
      "id": "6e5fb53d",
      "metadata": {
        "id": "6e5fb53d"
      },
      "outputs": [],
      "source": [
        "# Import common libraries for data processing and ML\n",
        "\n",
        "import numpy as np\n",
        "import pandas as pd\n",
        "import matplotlib.pyplot as plt\n",
        "import seaborn as sb\n",
        "import io"
      ]
    },
    {
      "cell_type": "code",
      "source": [],
      "metadata": {
        "id": "Tq9K6YJz3qwO"
      },
      "id": "Tq9K6YJz3qwO",
      "execution_count": null,
      "outputs": []
    },
    {
      "cell_type": "code",
      "source": [
        "from google.colab import files\n",
        "uploaded = files.upload()"
      ],
      "metadata": {
        "colab": {
          "base_uri": "https://localhost:8080/",
          "height": 74
        },
        "id": "FdBourul4FhD",
        "outputId": "690b8b0d-4202-4bf6-8be5-a29c05d86bda"
      },
      "id": "FdBourul4FhD",
      "execution_count": 9,
      "outputs": [
        {
          "output_type": "display_data",
          "data": {
            "text/plain": [
              "<IPython.core.display.HTML object>"
            ],
            "text/html": [
              "\n",
              "     <input type=\"file\" id=\"files-f75ba85d-eeed-4c07-ae09-e05979df34e0\" name=\"files[]\" multiple disabled\n",
              "        style=\"border:none\" />\n",
              "     <output id=\"result-f75ba85d-eeed-4c07-ae09-e05979df34e0\">\n",
              "      Upload widget is only available when the cell has been executed in the\n",
              "      current browser session. Please rerun this cell to enable.\n",
              "      </output>\n",
              "      <script>// Copyright 2017 Google LLC\n",
              "//\n",
              "// Licensed under the Apache License, Version 2.0 (the \"License\");\n",
              "// you may not use this file except in compliance with the License.\n",
              "// You may obtain a copy of the License at\n",
              "//\n",
              "//      http://www.apache.org/licenses/LICENSE-2.0\n",
              "//\n",
              "// Unless required by applicable law or agreed to in writing, software\n",
              "// distributed under the License is distributed on an \"AS IS\" BASIS,\n",
              "// WITHOUT WARRANTIES OR CONDITIONS OF ANY KIND, either express or implied.\n",
              "// See the License for the specific language governing permissions and\n",
              "// limitations under the License.\n",
              "\n",
              "/**\n",
              " * @fileoverview Helpers for google.colab Python module.\n",
              " */\n",
              "(function(scope) {\n",
              "function span(text, styleAttributes = {}) {\n",
              "  const element = document.createElement('span');\n",
              "  element.textContent = text;\n",
              "  for (const key of Object.keys(styleAttributes)) {\n",
              "    element.style[key] = styleAttributes[key];\n",
              "  }\n",
              "  return element;\n",
              "}\n",
              "\n",
              "// Max number of bytes which will be uploaded at a time.\n",
              "const MAX_PAYLOAD_SIZE = 100 * 1024;\n",
              "\n",
              "function _uploadFiles(inputId, outputId) {\n",
              "  const steps = uploadFilesStep(inputId, outputId);\n",
              "  const outputElement = document.getElementById(outputId);\n",
              "  // Cache steps on the outputElement to make it available for the next call\n",
              "  // to uploadFilesContinue from Python.\n",
              "  outputElement.steps = steps;\n",
              "\n",
              "  return _uploadFilesContinue(outputId);\n",
              "}\n",
              "\n",
              "// This is roughly an async generator (not supported in the browser yet),\n",
              "// where there are multiple asynchronous steps and the Python side is going\n",
              "// to poll for completion of each step.\n",
              "// This uses a Promise to block the python side on completion of each step,\n",
              "// then passes the result of the previous step as the input to the next step.\n",
              "function _uploadFilesContinue(outputId) {\n",
              "  const outputElement = document.getElementById(outputId);\n",
              "  const steps = outputElement.steps;\n",
              "\n",
              "  const next = steps.next(outputElement.lastPromiseValue);\n",
              "  return Promise.resolve(next.value.promise).then((value) => {\n",
              "    // Cache the last promise value to make it available to the next\n",
              "    // step of the generator.\n",
              "    outputElement.lastPromiseValue = value;\n",
              "    return next.value.response;\n",
              "  });\n",
              "}\n",
              "\n",
              "/**\n",
              " * Generator function which is called between each async step of the upload\n",
              " * process.\n",
              " * @param {string} inputId Element ID of the input file picker element.\n",
              " * @param {string} outputId Element ID of the output display.\n",
              " * @return {!Iterable<!Object>} Iterable of next steps.\n",
              " */\n",
              "function* uploadFilesStep(inputId, outputId) {\n",
              "  const inputElement = document.getElementById(inputId);\n",
              "  inputElement.disabled = false;\n",
              "\n",
              "  const outputElement = document.getElementById(outputId);\n",
              "  outputElement.innerHTML = '';\n",
              "\n",
              "  const pickedPromise = new Promise((resolve) => {\n",
              "    inputElement.addEventListener('change', (e) => {\n",
              "      resolve(e.target.files);\n",
              "    });\n",
              "  });\n",
              "\n",
              "  const cancel = document.createElement('button');\n",
              "  inputElement.parentElement.appendChild(cancel);\n",
              "  cancel.textContent = 'Cancel upload';\n",
              "  const cancelPromise = new Promise((resolve) => {\n",
              "    cancel.onclick = () => {\n",
              "      resolve(null);\n",
              "    };\n",
              "  });\n",
              "\n",
              "  // Wait for the user to pick the files.\n",
              "  const files = yield {\n",
              "    promise: Promise.race([pickedPromise, cancelPromise]),\n",
              "    response: {\n",
              "      action: 'starting',\n",
              "    }\n",
              "  };\n",
              "\n",
              "  cancel.remove();\n",
              "\n",
              "  // Disable the input element since further picks are not allowed.\n",
              "  inputElement.disabled = true;\n",
              "\n",
              "  if (!files) {\n",
              "    return {\n",
              "      response: {\n",
              "        action: 'complete',\n",
              "      }\n",
              "    };\n",
              "  }\n",
              "\n",
              "  for (const file of files) {\n",
              "    const li = document.createElement('li');\n",
              "    li.append(span(file.name, {fontWeight: 'bold'}));\n",
              "    li.append(span(\n",
              "        `(${file.type || 'n/a'}) - ${file.size} bytes, ` +\n",
              "        `last modified: ${\n",
              "            file.lastModifiedDate ? file.lastModifiedDate.toLocaleDateString() :\n",
              "                                    'n/a'} - `));\n",
              "    const percent = span('0% done');\n",
              "    li.appendChild(percent);\n",
              "\n",
              "    outputElement.appendChild(li);\n",
              "\n",
              "    const fileDataPromise = new Promise((resolve) => {\n",
              "      const reader = new FileReader();\n",
              "      reader.onload = (e) => {\n",
              "        resolve(e.target.result);\n",
              "      };\n",
              "      reader.readAsArrayBuffer(file);\n",
              "    });\n",
              "    // Wait for the data to be ready.\n",
              "    let fileData = yield {\n",
              "      promise: fileDataPromise,\n",
              "      response: {\n",
              "        action: 'continue',\n",
              "      }\n",
              "    };\n",
              "\n",
              "    // Use a chunked sending to avoid message size limits. See b/62115660.\n",
              "    let position = 0;\n",
              "    do {\n",
              "      const length = Math.min(fileData.byteLength - position, MAX_PAYLOAD_SIZE);\n",
              "      const chunk = new Uint8Array(fileData, position, length);\n",
              "      position += length;\n",
              "\n",
              "      const base64 = btoa(String.fromCharCode.apply(null, chunk));\n",
              "      yield {\n",
              "        response: {\n",
              "          action: 'append',\n",
              "          file: file.name,\n",
              "          data: base64,\n",
              "        },\n",
              "      };\n",
              "\n",
              "      let percentDone = fileData.byteLength === 0 ?\n",
              "          100 :\n",
              "          Math.round((position / fileData.byteLength) * 100);\n",
              "      percent.textContent = `${percentDone}% done`;\n",
              "\n",
              "    } while (position < fileData.byteLength);\n",
              "  }\n",
              "\n",
              "  // All done.\n",
              "  yield {\n",
              "    response: {\n",
              "      action: 'complete',\n",
              "    }\n",
              "  };\n",
              "}\n",
              "\n",
              "scope.google = scope.google || {};\n",
              "scope.google.colab = scope.google.colab || {};\n",
              "scope.google.colab._files = {\n",
              "  _uploadFiles,\n",
              "  _uploadFilesContinue,\n",
              "};\n",
              "})(self);\n",
              "</script> "
            ]
          },
          "metadata": {}
        },
        {
          "output_type": "stream",
          "name": "stdout",
          "text": [
            "Saving greenhouse_gas.csv to greenhouse_gas (1).csv\n"
          ]
        }
      ]
    },
    {
      "cell_type": "markdown",
      "id": "9e1fcc9a",
      "metadata": {
        "id": "9e1fcc9a"
      },
      "source": [
        "## Using the following dataset --\n",
        "### International Greenhouse Gas Emissions\n",
        "This dataset is a global GHG inventory from 1990-2017 provided by the UN."
      ]
    },
    {
      "cell_type": "code",
      "execution_count": 10,
      "id": "28d4169f",
      "metadata": {
        "colab": {
          "base_uri": "https://localhost:8080/",
          "height": 423
        },
        "id": "28d4169f",
        "outputId": "9cd5a8c1-830f-4611-bca1-af04dd8f1bfa"
      },
      "outputs": [
        {
          "output_type": "display_data",
          "data": {
            "text/plain": [
              "               country_or_area  year          value  \\\n",
              "0                    Australia  2014  393126.946994   \n",
              "1                    Australia  2013  396913.936530   \n",
              "2                    Australia  2012  406462.847704   \n",
              "3                    Australia  2011  403705.528314   \n",
              "4                    Australia  2010  406200.993184   \n",
              "...                        ...   ...            ...   \n",
              "8401  United States of America  1994     593.222570   \n",
              "8402  United States of America  1993     586.939752   \n",
              "8403  United States of America  1992     574.414624   \n",
              "8404  United States of America  1991     566.900968   \n",
              "8405  United States of America  1990     293.205663   \n",
              "\n",
              "                                               category  \n",
              "0     carbon_dioxide_co2_emissions_without_land_use_...  \n",
              "1     carbon_dioxide_co2_emissions_without_land_use_...  \n",
              "2     carbon_dioxide_co2_emissions_without_land_use_...  \n",
              "3     carbon_dioxide_co2_emissions_without_land_use_...  \n",
              "4     carbon_dioxide_co2_emissions_without_land_use_...  \n",
              "...                                                 ...  \n",
              "8401  unspecified_mix_of_hydrofluorocarbons_hfcs_and...  \n",
              "8402  unspecified_mix_of_hydrofluorocarbons_hfcs_and...  \n",
              "8403  unspecified_mix_of_hydrofluorocarbons_hfcs_and...  \n",
              "8404  unspecified_mix_of_hydrofluorocarbons_hfcs_and...  \n",
              "8405  unspecified_mix_of_hydrofluorocarbons_hfcs_and...  \n",
              "\n",
              "[8406 rows x 4 columns]"
            ],
            "text/html": [
              "\n",
              "  <div id=\"df-f5d70b8c-a666-43f8-b838-323220e6cb1a\">\n",
              "    <div class=\"colab-df-container\">\n",
              "      <div>\n",
              "<style scoped>\n",
              "    .dataframe tbody tr th:only-of-type {\n",
              "        vertical-align: middle;\n",
              "    }\n",
              "\n",
              "    .dataframe tbody tr th {\n",
              "        vertical-align: top;\n",
              "    }\n",
              "\n",
              "    .dataframe thead th {\n",
              "        text-align: right;\n",
              "    }\n",
              "</style>\n",
              "<table border=\"1\" class=\"dataframe\">\n",
              "  <thead>\n",
              "    <tr style=\"text-align: right;\">\n",
              "      <th></th>\n",
              "      <th>country_or_area</th>\n",
              "      <th>year</th>\n",
              "      <th>value</th>\n",
              "      <th>category</th>\n",
              "    </tr>\n",
              "  </thead>\n",
              "  <tbody>\n",
              "    <tr>\n",
              "      <th>0</th>\n",
              "      <td>Australia</td>\n",
              "      <td>2014</td>\n",
              "      <td>393126.946994</td>\n",
              "      <td>carbon_dioxide_co2_emissions_without_land_use_...</td>\n",
              "    </tr>\n",
              "    <tr>\n",
              "      <th>1</th>\n",
              "      <td>Australia</td>\n",
              "      <td>2013</td>\n",
              "      <td>396913.936530</td>\n",
              "      <td>carbon_dioxide_co2_emissions_without_land_use_...</td>\n",
              "    </tr>\n",
              "    <tr>\n",
              "      <th>2</th>\n",
              "      <td>Australia</td>\n",
              "      <td>2012</td>\n",
              "      <td>406462.847704</td>\n",
              "      <td>carbon_dioxide_co2_emissions_without_land_use_...</td>\n",
              "    </tr>\n",
              "    <tr>\n",
              "      <th>3</th>\n",
              "      <td>Australia</td>\n",
              "      <td>2011</td>\n",
              "      <td>403705.528314</td>\n",
              "      <td>carbon_dioxide_co2_emissions_without_land_use_...</td>\n",
              "    </tr>\n",
              "    <tr>\n",
              "      <th>4</th>\n",
              "      <td>Australia</td>\n",
              "      <td>2010</td>\n",
              "      <td>406200.993184</td>\n",
              "      <td>carbon_dioxide_co2_emissions_without_land_use_...</td>\n",
              "    </tr>\n",
              "    <tr>\n",
              "      <th>...</th>\n",
              "      <td>...</td>\n",
              "      <td>...</td>\n",
              "      <td>...</td>\n",
              "      <td>...</td>\n",
              "    </tr>\n",
              "    <tr>\n",
              "      <th>8401</th>\n",
              "      <td>United States of America</td>\n",
              "      <td>1994</td>\n",
              "      <td>593.222570</td>\n",
              "      <td>unspecified_mix_of_hydrofluorocarbons_hfcs_and...</td>\n",
              "    </tr>\n",
              "    <tr>\n",
              "      <th>8402</th>\n",
              "      <td>United States of America</td>\n",
              "      <td>1993</td>\n",
              "      <td>586.939752</td>\n",
              "      <td>unspecified_mix_of_hydrofluorocarbons_hfcs_and...</td>\n",
              "    </tr>\n",
              "    <tr>\n",
              "      <th>8403</th>\n",
              "      <td>United States of America</td>\n",
              "      <td>1992</td>\n",
              "      <td>574.414624</td>\n",
              "      <td>unspecified_mix_of_hydrofluorocarbons_hfcs_and...</td>\n",
              "    </tr>\n",
              "    <tr>\n",
              "      <th>8404</th>\n",
              "      <td>United States of America</td>\n",
              "      <td>1991</td>\n",
              "      <td>566.900968</td>\n",
              "      <td>unspecified_mix_of_hydrofluorocarbons_hfcs_and...</td>\n",
              "    </tr>\n",
              "    <tr>\n",
              "      <th>8405</th>\n",
              "      <td>United States of America</td>\n",
              "      <td>1990</td>\n",
              "      <td>293.205663</td>\n",
              "      <td>unspecified_mix_of_hydrofluorocarbons_hfcs_and...</td>\n",
              "    </tr>\n",
              "  </tbody>\n",
              "</table>\n",
              "<p>8406 rows × 4 columns</p>\n",
              "</div>\n",
              "      <button class=\"colab-df-convert\" onclick=\"convertToInteractive('df-f5d70b8c-a666-43f8-b838-323220e6cb1a')\"\n",
              "              title=\"Convert this dataframe to an interactive table.\"\n",
              "              style=\"display:none;\">\n",
              "        \n",
              "  <svg xmlns=\"http://www.w3.org/2000/svg\" height=\"24px\"viewBox=\"0 0 24 24\"\n",
              "       width=\"24px\">\n",
              "    <path d=\"M0 0h24v24H0V0z\" fill=\"none\"/>\n",
              "    <path d=\"M18.56 5.44l.94 2.06.94-2.06 2.06-.94-2.06-.94-.94-2.06-.94 2.06-2.06.94zm-11 1L8.5 8.5l.94-2.06 2.06-.94-2.06-.94L8.5 2.5l-.94 2.06-2.06.94zm10 10l.94 2.06.94-2.06 2.06-.94-2.06-.94-.94-2.06-.94 2.06-2.06.94z\"/><path d=\"M17.41 7.96l-1.37-1.37c-.4-.4-.92-.59-1.43-.59-.52 0-1.04.2-1.43.59L10.3 9.45l-7.72 7.72c-.78.78-.78 2.05 0 2.83L4 21.41c.39.39.9.59 1.41.59.51 0 1.02-.2 1.41-.59l7.78-7.78 2.81-2.81c.8-.78.8-2.07 0-2.86zM5.41 20L4 18.59l7.72-7.72 1.47 1.35L5.41 20z\"/>\n",
              "  </svg>\n",
              "      </button>\n",
              "      \n",
              "  <style>\n",
              "    .colab-df-container {\n",
              "      display:flex;\n",
              "      flex-wrap:wrap;\n",
              "      gap: 12px;\n",
              "    }\n",
              "\n",
              "    .colab-df-convert {\n",
              "      background-color: #E8F0FE;\n",
              "      border: none;\n",
              "      border-radius: 50%;\n",
              "      cursor: pointer;\n",
              "      display: none;\n",
              "      fill: #1967D2;\n",
              "      height: 32px;\n",
              "      padding: 0 0 0 0;\n",
              "      width: 32px;\n",
              "    }\n",
              "\n",
              "    .colab-df-convert:hover {\n",
              "      background-color: #E2EBFA;\n",
              "      box-shadow: 0px 1px 2px rgba(60, 64, 67, 0.3), 0px 1px 3px 1px rgba(60, 64, 67, 0.15);\n",
              "      fill: #174EA6;\n",
              "    }\n",
              "\n",
              "    [theme=dark] .colab-df-convert {\n",
              "      background-color: #3B4455;\n",
              "      fill: #D2E3FC;\n",
              "    }\n",
              "\n",
              "    [theme=dark] .colab-df-convert:hover {\n",
              "      background-color: #434B5C;\n",
              "      box-shadow: 0px 1px 3px 1px rgba(0, 0, 0, 0.15);\n",
              "      filter: drop-shadow(0px 1px 2px rgba(0, 0, 0, 0.3));\n",
              "      fill: #FFFFFF;\n",
              "    }\n",
              "  </style>\n",
              "\n",
              "      <script>\n",
              "        const buttonEl =\n",
              "          document.querySelector('#df-f5d70b8c-a666-43f8-b838-323220e6cb1a button.colab-df-convert');\n",
              "        buttonEl.style.display =\n",
              "          google.colab.kernel.accessAllowed ? 'block' : 'none';\n",
              "\n",
              "        async function convertToInteractive(key) {\n",
              "          const element = document.querySelector('#df-f5d70b8c-a666-43f8-b838-323220e6cb1a');\n",
              "          const dataTable =\n",
              "            await google.colab.kernel.invokeFunction('convertToInteractive',\n",
              "                                                     [key], {});\n",
              "          if (!dataTable) return;\n",
              "\n",
              "          const docLinkHtml = 'Like what you see? Visit the ' +\n",
              "            '<a target=\"_blank\" href=https://colab.research.google.com/notebooks/data_table.ipynb>data table notebook</a>'\n",
              "            + ' to learn more about interactive tables.';\n",
              "          element.innerHTML = '';\n",
              "          dataTable['output_type'] = 'display_data';\n",
              "          await google.colab.output.renderOutput(dataTable, element);\n",
              "          const docLink = document.createElement('div');\n",
              "          docLink.innerHTML = docLinkHtml;\n",
              "          element.appendChild(docLink);\n",
              "        }\n",
              "      </script>\n",
              "    </div>\n",
              "  </div>\n",
              "  "
            ]
          },
          "metadata": {}
        }
      ],
      "source": [
        "df = pd.read_csv(io.BytesIO(uploaded['greenhouse_gas.csv']))\n",
        "display(df)"
      ]
    },
    {
      "cell_type": "code",
      "execution_count": null,
      "id": "557ff55a",
      "metadata": {
        "id": "557ff55a",
        "outputId": "0eed4d98-5bb3-4ea4-97fa-6cae3e82c7ab"
      },
      "outputs": [
        {
          "name": "stdout",
          "output_type": "stream",
          "text": [
            "Number of records (rows) = 8406\n",
            "Number of parameters (columns) = 4\n",
            "country_or_area  has  43  unique values.\n",
            "year  has  25  unique values.\n",
            "value  has  7660  unique values.\n",
            "category  has  10  unique values.\n",
            "country_or_area     object\n",
            "year                 int64\n",
            "value              float64\n",
            "category            object\n",
            "dtype: object\n"
          ]
        }
      ],
      "source": [
        "print('Number of records (rows) = '+str(df.shape[0])) \n",
        "print('Number of parameters (columns) = '+str(df.shape[1])) \n",
        "for col in df: \n",
        "    print(col,' has ',len(df[col].unique()),' unique values.') \n",
        "print(df.dtypes)"
      ]
    },
    {
      "cell_type": "code",
      "execution_count": 12,
      "id": "a566572b",
      "metadata": {
        "colab": {
          "base_uri": "https://localhost:8080/"
        },
        "id": "a566572b",
        "outputId": "28ffe722-2ae4-46d6-f69e-4f9d7f042fd2"
      },
      "outputs": [
        {
          "output_type": "stream",
          "name": "stdout",
          "text": [
            "['carbon_dioxide_co2_emissions_without_land_use_land_use_change_and_forestry_lulucf_in_kilotonne_co2_equivalent'\n",
            " 'greenhouse_gas_ghgs_emissions_including_indirect_co2_without_lulucf_in_kilotonne_co2_equivalent'\n",
            " 'greenhouse_gas_ghgs_emissions_without_land_use_land_use_change_and_forestry_lulucf_in_kilotonne_co2_equivalent'\n",
            " 'hydrofluorocarbons_hfcs_emissions_in_kilotonne_co2_equivalent'\n",
            " 'methane_ch4_emissions_without_land_use_land_use_change_and_forestry_lulucf_in_kilotonne_co2_equivalent'\n",
            " 'nitrogen_trifluoride_nf3_emissions_in_kilotonne_co2_equivalent'\n",
            " 'nitrous_oxide_n2o_emissions_without_land_use_land_use_change_and_forestry_lulucf_in_kilotonne_co2_equivalent'\n",
            " 'perfluorocarbons_pfcs_emissions_in_kilotonne_co2_equivalent'\n",
            " 'sulphur_hexafluoride_sf6_emissions_in_kilotonne_co2_equivalent'\n",
            " 'unspecified_mix_of_hydrofluorocarbons_hfcs_and_perfluorocarbons_pfcs_emissions_in_kilotonne_co2_equivalent']\n"
          ]
        }
      ],
      "source": [
        "# Data Cleaning\n",
        "\n",
        "fix = df['category'].unique()\n",
        "print(fix)\n",
        "repl = ['CO2','CO22','CO23','HFCs','CH4','NF3','N2O','PFCs','SF6','HFCs and PFCs mixture']\n",
        "\n",
        "df['category'] = df['category'].replace(fix, repl)"
      ]
    },
    {
      "cell_type": "code",
      "execution_count": 15,
      "id": "b6a53b60",
      "metadata": {
        "colab": {
          "base_uri": "https://localhost:8080/"
        },
        "id": "b6a53b60",
        "outputId": "d3491ef4-d45c-45c4-b8e7-89c9981dd3e5"
      },
      "outputs": [
        {
          "output_type": "stream",
          "name": "stdout",
          "text": [
            "Missing Values per Column\n"
          ]
        },
        {
          "output_type": "execute_result",
          "data": {
            "text/plain": [
              "country_or_area    0\n",
              "year               0\n",
              "value              0\n",
              "category           0\n",
              "dtype: int64"
            ]
          },
          "metadata": {},
          "execution_count": 15
        }
      ],
      "source": [
        "print('Missing Values per Column')\n",
        "df.isnull().sum()\n",
        "# data types are correct, no need to fix\n",
        "# there was no repeated data to be cleaned\n",
        "# there were outliers that could be cleaned, but did not for the sake of box-and-whiskers plot\n",
        "# hence, no column values were cleaned\n",
        "# no missing values or empty rows to drop"
      ]
    },
    {
      "cell_type": "markdown",
      "id": "dc2feaa3",
      "metadata": {
        "id": "dc2feaa3"
      },
      "source": [
        "# Step 8"
      ]
    },
    {
      "cell_type": "code",
      "execution_count": null,
      "id": "42fe81bc",
      "metadata": {
        "id": "42fe81bc"
      },
      "outputs": [],
      "source": [
        "# To plot histograms for all discrete variables \n",
        "\n",
        "for col in df1: # loop through the dataframe\n",
        "    if df1[col].dtype!='float64': # for all discrete variables\n",
        "        q8 = plt.figure(figsize=(15,5)) # to plot each histogram separately\n",
        "        plt.hist(df1[col]) # to plot a histogram for each column\n",
        "        plt.title(col, fontsize = 20) # title on each plot\n",
        "        plt.xticks(rotation=40, ha='right') # so that the x-tick labels do not overlap\n",
        "        plt.show()"
      ]
    },
    {
      "cell_type": "markdown",
      "id": "1a12a5e9",
      "metadata": {
        "id": "1a12a5e9"
      },
      "source": [
        "# Step 9"
      ]
    },
    {
      "cell_type": "code",
      "execution_count": 18,
      "id": "e92c3020",
      "metadata": {
        "colab": {
          "base_uri": "https://localhost:8080/",
          "height": 349
        },
        "id": "e92c3020",
        "outputId": "5ffdb183-1038-473e-de94-75f03a646f80"
      },
      "outputs": [
        {
          "output_type": "display_data",
          "data": {
            "text/plain": [
              "<Figure size 1080x360 with 1 Axes>"
            ],
            "image/png": "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\n"
          },
          "metadata": {
            "needs_background": "light"
          }
        }
      ],
      "source": [
        "# To plot histogram for all continuous variables (col 9-19)\n",
        "\n",
        "df2 = pd.DataFrame()\n",
        "for col in df: \n",
        "    if df[col].dtype=='float64':\n",
        "        df2[col]=df[col]\n",
        "        q9 = plt.figure(figsize=(15,5)) # to plot each histogram separately\n",
        "        df[col].plot.hist(title = col, edgecolor='black') # with appropriately spaced bins"
      ]
    },
    {
      "cell_type": "markdown",
      "id": "edd7381c",
      "metadata": {
        "id": "edd7381c"
      },
      "source": [
        "# Step 10"
      ]
    },
    {
      "cell_type": "code",
      "execution_count": 19,
      "id": "8c0c93c7",
      "metadata": {
        "colab": {
          "base_uri": "https://localhost:8080/",
          "height": 356
        },
        "id": "8c0c93c7",
        "outputId": "7c2fd996-c695-4173-d015-ee3e62d415c7"
      },
      "outputs": [
        {
          "output_type": "display_data",
          "data": {
            "text/plain": [
              "<Figure size 1080x360 with 2 Axes>"
            ],
            "image/png": "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\n"
          },
          "metadata": {
            "needs_background": "light"
          }
        }
      ],
      "source": [
        "# Plot a color-coded correlation matrix for all pairs of continuous variables\n",
        "\n",
        "ax = plt.figure(figsize=(15,5)) \n",
        "q10 = df.corr() \n",
        "sb.heatmap(q10, xticklabels=q10.columns, yticklabels=q10.columns, annot=True) # plot the heatmap and annotation on it\n",
        "plt.title('Correlation between the Continuous Variables', fontsize = 20) # title with fontsize 20\n",
        "plt.xticks(rotation=40, ha='right')\n",
        "plt.show()"
      ]
    },
    {
      "cell_type": "code",
      "execution_count": null,
      "id": "0f29a5ec",
      "metadata": {
        "id": "0f29a5ec"
      },
      "outputs": [],
      "source": [
        "# plot the scatter plot for all pairs of continuous variables\n",
        "print(\"The following scatter plots show the correlation between 2 variables for a given city.\")\n",
        "for i in range(len(df2.columns)):\n",
        "    for j in range(i+1,len(df2.columns)):\n",
        "        q10b = plt.figure(figsize=(10,5)) # to plot each scatter plot separately\n",
        "        plt.scatter(df2[df2.columns[i]],df2[df2.columns[j]], s=10, edgecolor='black')\n",
        "        plt.title(str(df2.columns[i])+' versus '+str(df2.columns[j]), fontsize = 20)\n",
        "        plt.xlabel(str(df2.columns[i]))\n",
        "        plt.ylabel(str(df2.columns[j]))\n",
        "        plt.show()"
      ]
    },
    {
      "cell_type": "markdown",
      "id": "a94702bf",
      "metadata": {
        "id": "a94702bf"
      },
      "source": [
        "# Step 11"
      ]
    },
    {
      "cell_type": "code",
      "execution_count": null,
      "id": "0eac7f78",
      "metadata": {
        "id": "0eac7f78"
      },
      "outputs": [],
      "source": [
        "# To check if the sum of columns J through S matches with column I for all rows\n",
        "\n",
        "cols=df2.columns[1:]\n",
        "q11 = pd.DataFrame( )\n",
        "q11['Sum']= df2[cols].sum(axis=1)\n",
        "q11['Number']= df2['Number of census houses']\n",
        "#q11['Diff']= ((q11.Number - q11.Sum))\n",
        "#display(q11['Diff'].sort_values()) \n",
        "    # this shows that the differences range from [-0.000551, 0.000323]\n",
        "    # can take 0.001 as a sufficient epsilon\n",
        "q11['Consistent']= (abs(q11.Number - q11.Sum)<0.001) \n",
        "#q11['Consistent'].value_counts() \n",
        "    # output: True    1468\n",
        "    # all rows are consistent, nothing to be cleaned\n",
        "display(q11['Consistent'])"
      ]
    },
    {
      "cell_type": "markdown",
      "id": "b3ffce8c",
      "metadata": {
        "id": "b3ffce8c"
      },
      "source": [
        "# Step 12"
      ]
    },
    {
      "cell_type": "code",
      "execution_count": null,
      "id": "2cc96f3c",
      "metadata": {
        "id": "2cc96f3c"
      },
      "outputs": [],
      "source": [
        "# To divide columns J through S by column I and store the in new columns as percent (multiply by 100) \n",
        "for col in cols:\n",
        "    df2[col]=df2[col]/df2['Number of census houses']*100\n",
        "print('Houses having Walls made of a Material as a Percentage of Total Houses in a City')\n",
        "\n",
        "joiNer = df1.iloc[:,0:9].copy()\n",
        "q12 = pd.concat([joiNer,df2],axis=1)\n",
        "display(q12)"
      ]
    },
    {
      "cell_type": "markdown",
      "id": "920ed8a6",
      "metadata": {
        "id": "920ed8a6"
      },
      "source": [
        "# Step 13"
      ]
    },
    {
      "cell_type": "code",
      "execution_count": null,
      "id": "4493233d",
      "metadata": {
        "scrolled": false,
        "id": "4493233d"
      },
      "outputs": [],
      "source": [
        "# To show box and whiskers plot for the new columns\n",
        "\n",
        "for col in cols:\n",
        "    q13 = plt.figure(figsize=(15,5)) # to plot each box and whisker plot separately\n",
        "    sb.boxplot(x=q12[col])\n",
        "    plt.title('Houses Having '+col+' as a Percentage of Total Houses in a City', fontsize=18)\n",
        "    plt.xlabel('')\n",
        "    plt.show()"
      ]
    },
    {
      "cell_type": "markdown",
      "id": "f89a35e1",
      "metadata": {
        "id": "f89a35e1"
      },
      "source": [
        "# Step 14"
      ]
    },
    {
      "cell_type": "code",
      "execution_count": null,
      "id": "1aae382a",
      "metadata": {
        "scrolled": false,
        "id": "1aae382a"
      },
      "outputs": [],
      "source": [
        "# To plot box and whiskers plot by rural versus urban for the new columns \n",
        "\n",
        "for col in cols:\n",
        "    q14 = plt.figure(figsize=(15,5)) # to plot each box and whisker plot separately\n",
        "    sb.boxplot(data=q12, x=col,y='Type of residence namely rural/ urban')\n",
        "    plt.title('Houses Having '+col+' as a Percentage of Total Houses in a City', fontsize=18)\n",
        "    plt.xlabel('')\n",
        "    plt.ylabel('Type of Residence')\n",
        "    plt.show()"
      ]
    },
    {
      "cell_type": "markdown",
      "id": "feb9ffd4",
      "metadata": {
        "id": "feb9ffd4"
      },
      "source": [
        "# Step 15"
      ]
    },
    {
      "cell_type": "code",
      "execution_count": null,
      "id": "48a03dd9",
      "metadata": {
        "scrolled": true,
        "id": "48a03dd9"
      },
      "outputs": [],
      "source": [
        "# To plot pair-wise scatter plots for the new columns\n",
        "sb.pairplot(df2[cols])\n",
        "plt.show()"
      ]
    },
    {
      "cell_type": "code",
      "execution_count": null,
      "id": "4be24c39",
      "metadata": {
        "id": "4be24c39"
      },
      "outputs": [],
      "source": [
        "# To show (color-coded) correlation matrix for the new columns\n",
        "\n",
        "ax = plt.figure(figsize=(15,5)) \n",
        "q15 = df2.corr() \n",
        "sb.heatmap(q10, xticklabels=q10.columns, yticklabels=q10.columns, annot=True) # plot the heatmap and annotation on it\n",
        "plt.title('Correlation between the Continuous Variables', fontsize = 20) # title with fontsize 20\n",
        "plt.xticks(rotation=40, ha='right')\n",
        "plt.show()"
      ]
    },
    {
      "cell_type": "markdown",
      "id": "e560c0a9",
      "metadata": {
        "id": "e560c0a9"
      },
      "source": [
        "# Step 16"
      ]
    },
    {
      "cell_type": "code",
      "execution_count": null,
      "id": "682d142a",
      "metadata": {
        "id": "682d142a"
      },
      "outputs": [],
      "source": [
        "import statsmodels.api as stm    \n",
        "for col in cols:\n",
        "  q16 = stm.qqplot(df[col])   # plot the qqplots\n",
        "  plt.show()"
      ]
    },
    {
      "cell_type": "markdown",
      "id": "1c370bf4",
      "metadata": {
        "id": "1c370bf4"
      },
      "source": [
        "# References Used:"
      ]
    },
    {
      "cell_type": "markdown",
      "id": "7f4988b9",
      "metadata": {
        "id": "7f4988b9"
      },
      "source": [
        "https://www.w3schools.com/python/pandas/pandas_csv.asp\n",
        "\n",
        "http://localhost:8888/notebooks/MLforSmartMonkeys.ipynb\n",
        "\n",
        "https://stackoverflow.com/questions/27241253/print-the-unique-values-in-every-column-in-a-pandas-dataframe\n",
        "\n",
        "https://www.w3schools.com/python/pandas/pandas_cleaning.asp \n",
        "\n",
        "https://pythonguides.com/matplotlib-rotate-tick-labels/\n",
        "\n",
        "https://www.machinelearningplus.com/pandas/pandas-histogram/#:~:text=In%20order%20to%20plot%20a,column%20in%20the%20pandas%20dataframe\n",
        "\n",
      ]
    }
  ],
  "metadata": {
    "kernelspec": {
      "display_name": "Python 3 (ipykernel)",
      "language": "python",
      "name": "python3"
    },
    "language_info": {
      "codemirror_mode": {
        "name": "ipython",
        "version": 3
      },
      "file_extension": ".py",
      "mimetype": "text/x-python",
      "name": "python",
      "nbconvert_exporter": "python",
      "pygments_lexer": "ipython3",
      "version": "3.9.7"
    },
    "colab": {
      "provenance": []
    }
  },
  "nbformat": 4,
  "nbformat_minor": 5
}
